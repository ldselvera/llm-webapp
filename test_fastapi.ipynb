{
 "cells": [
  {
   "cell_type": "code",
   "execution_count": 4,
   "id": "3856f1d2-09da-476e-85ef-e11b3d546231",
   "metadata": {},
   "outputs": [
    {
     "name": "stdout",
     "output_type": "stream",
     "text": [
      "Response: {'response': 'Donald Trump won the 2024 United States presidential election.'}\n"
     ]
    }
   ],
   "source": [
    "import requests\n",
    "\n",
    "# Define the API URL\n",
    "url = \"http://127.0.0.1:8000/response\"\n",
    "\n",
    "# Define the payload\n",
    "payload = {\"text\": \"Who won the 2024 election?\"}\n",
    "\n",
    "# Send the POST request\n",
    "response = requests.post(url, json=payload)\n",
    "\n",
    "# Check the response\n",
    "if response.status_code == 200:\n",
    "    print(\"Response:\", response.json())\n",
    "else:\n",
    "    print(\"Error:\", response.status_code, response.text)"
   ]
  },
  {
   "cell_type": "code",
   "execution_count": 5,
   "id": "7954d182-2457-426c-8d36-ac151105463d",
   "metadata": {},
   "outputs": [
    {
     "name": "stdout",
     "output_type": "stream",
     "text": [
      "Response: {'response': 'Why did the political analyst bring a ladder to the election? \\n\\nBecause they heard the race was too close to call!'}\n"
     ]
    }
   ],
   "source": [
    "# Define the payload\n",
    "payload = {\"text\": \"Tell me a joke\"}\n",
    "\n",
    "# Send the POST request\n",
    "response = requests.post(url, json=payload)\n",
    "\n",
    "# Check the response\n",
    "if response.status_code == 200:\n",
    "    print(\"Response:\", response.json())\n",
    "else:\n",
    "    print(\"Error:\", response.status_code, response.text)"
   ]
  },
  {
   "cell_type": "code",
   "execution_count": 6,
   "id": "78c28e22-5cd0-4d35-a34f-9ef417a2f562",
   "metadata": {},
   "outputs": [
    {
     "name": "stdout",
     "output_type": "stream",
     "text": [
      "Response: {'response': 'The 2024 United States presidential election was contested by Republican candidate Donald Trump and Democratic candidate Kamala Harris.'}\n"
     ]
    }
   ],
   "source": [
    "import requests\n",
    "\n",
    "# Define the API URL\n",
    "#url = \"http://0.0.0.0:80/response\" # direct fastapi run\n",
    "url=\"http://localhost:8080/response\" # docker run\n",
    "\n",
    "# Define the payload : same payload\n",
    "#payload = {\"text\": \"Who won the 2024 election?\"}\n",
    "payload = {\"text\": \"Who contested the election?\"}\n",
    "\n",
    "\n",
    "# Send the POST request\n",
    "response = requests.post(url, json=payload)\n",
    "\n",
    "# Check the response\n",
    "if response.status_code == 200:\n",
    "    print(\"Response:\", response.json())\n",
    "else:\n",
    "    print(\"Error:\", response.status_code, response.text)\n",
    "\n",
    "### Response\n",
    "# Response: {'response': 'The 2024 United States presidential election was contested by Republican candidate Donald Trump and Democratic candidate Kamala Harris.'}"
   ]
  },
  {
   "cell_type": "code",
   "execution_count": null,
   "id": "21019d2a-4c7a-4786-8fd2-ae59cacdf256",
   "metadata": {},
   "outputs": [],
   "source": []
  }
 ],
 "metadata": {
  "kernelspec": {
   "display_name": "Python 3 (ipykernel)",
   "language": "python",
   "name": "python3"
  },
  "language_info": {
   "codemirror_mode": {
    "name": "ipython",
    "version": 3
   },
   "file_extension": ".py",
   "mimetype": "text/x-python",
   "name": "python",
   "nbconvert_exporter": "python",
   "pygments_lexer": "ipython3",
   "version": "3.11.7"
  }
 },
 "nbformat": 4,
 "nbformat_minor": 5
}
